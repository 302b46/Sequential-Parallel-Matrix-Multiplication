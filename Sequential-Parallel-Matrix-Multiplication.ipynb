{
 "cells": [
  {
   "cell_type": "code",
   "execution_count": 7,
   "metadata": {},
   "outputs": [],
   "source": [
    "import random\n",
    "import time \n",
    "import math \n",
    "import multiprocessing as mp\n",
    "import os\n",
    "import numpy as np"
   ]
  },
  {
   "cell_type": "code",
   "execution_count": 8,
   "metadata": {},
   "outputs": [],
   "source": [
    "def sequentialMatrixMultiplication(A, B):\n",
    "    num_rows_A = len(A)\n",
    "    num_columns_A = len(A[0])\n",
    "    num_rows_B = len(B)\n",
    "    num_columns_B = len(B[0])\n",
    "    if num_columns_A != num_rows_B:\n",
    "        raise ArithmeticError('Invalid dimensions; Cannot multiply {}x{}*{}x{}'\n",
    "                            .format(num_rows_A, num_columns_A, num_rows_B, num_columns_B))\n",
    "    \n",
    "    matrixProduct = [[0] * num_columns_B for i in range(num_rows_A)]\n",
    "    for i in range(num_rows_A):\n",
    "        for j in range(num_columns_B):\n",
    "            for k in range(num_columns_A): #same as num_rows_B\n",
    "                matrixProduct[i][j] += A[i][k] * B[k][j]\n",
    "    return matrixProduct"
   ]
  },
  {
   "cell_type": "code",
   "execution_count": 22,
   "metadata": {},
   "outputs": [],
   "source": [
    "def cellValue(args):\n",
    "    A, B, position = args\n",
    "    row_A = A[position[0]]\n",
    "    column_B = []\n",
    "\n",
    "    for i in range(len*B[position[1]]):\n",
    "        column_B.append(B[i][position[1]])\n",
    "\n",
    "    matrixProduct = 0\n",
    "    for i, j in zip(row_A, column_B):\n",
    "        matrixProduct += i*j\n",
    "    return position, matrixProduct\n",
    "\n",
    "\n",
    "def parallelMatrixMultiplication(A, B):\n",
    "    num_rows_A = len(A)\n",
    "    num_columns_A = len(A[0])\n",
    "    num_rows_B = len(B)\n",
    "    num_columns_B = len(B[0])\n",
    "    if num_columns_A != num_rows_B:\n",
    "        raise ArithmeticError('Invalid dimensions; Cannot multiply {}x{}*{}x{}'\n",
    "                            .format(num_rows_A, num_columns_A, num_rows_B, num_columns_B))\n",
    "    args = []\n",
    "    # A, B, position = args\n",
    "    # row_A = A[position[0]]\n",
    "    # column_B = []\n",
    "\n",
    "    # for i in range(len*B[position[1]]):\n",
    "    #     column_B.append(B[i][position[1]])\n",
    "\n",
    "    # matrixProduct = 0\n",
    "    # for i, j in zip(row_A, column_B):\n",
    "    #     matrixProduct += i*j\n",
    "        \n",
    "\n",
    "    number_of_processes = num_rows_A * num_columns_B\n",
    "    for i in range(num_rows_A):\n",
    "        for j in range(num_columns_B):\n",
    "            args.append((A, B, (i, j)))\n",
    "    result = mp.Pool(number_of_processes).map(cellValue,args)\n"
   ]
  },
  {
   "cell_type": "code",
   "execution_count": 23,
   "metadata": {},
   "outputs": [
    {
     "name": "stdout",
     "output_type": "stream",
     "text": [
      "#-----------------------------------Evaluation of Sequential Implementation-----------------------------------#\n"
     ]
    }
   ],
   "source": [
    "if __name__ == '__main__':\n",
    "    NUM_EVAL_RUNS = 1\n",
    "    A = [[random.random() for i in range(1000)] for j in range(1000)]\n",
    "    B = [[random.random() for i in range(1000)] for j in range(1000)]\n",
    "\n",
    "    print(\"#-----------------------------------Evaluation of Sequential Implementation-----------------------------------#\")\n",
    "    sequential_result = sequentialMatrixMultiplication(A, B)\n",
    "    sequential_time = 0\n",
    "    for i in range(NUM_EVAL_RUNS):\n",
    "        start = time.perf_counter()\n",
    "        sequentialMatrixMultiplication(A, B)\n",
    "        sequential_time += time.perf_counter() - start\n",
    "    sequential_time /= NUM_EVAL_RUNS\n",
    "    print()\n",
    "    print(\"#-----------------------------------Evaluation of Parallel Implementation-----------------------------------#\")\n",
    "    parallel_result = parallelMatrixMultiplication(A, B)\n",
    "    parallel_time = 0\n",
    "    for i in range(NUM_EVAL_RUNS):\n",
    "        start = time.perf_counter()\n",
    "        parallelMatrixMultiplication(A, B)\n",
    "        parallel_time += time.perf_counter() - start\n",
    "    parallel_time /= NUM_EVAL_RUNS\n",
    "\n",
    "\n",
    "    print()\n",
    "\n",
    "    if sequential_result != parallel_result:\n",
    "        raise Exception('Sequential & Parallel Results Do Not Match')\n",
    "    print('Average Sequential Time: {:.2f} ms'.format(sequential_time*1000))\n",
    "    print('Average Parallel Time: {:.2f} ms'.format(parallel_time*1000))\n",
    "    print('Speedup: {:.2f}'.format(sequential_time/parallel_time))\n",
    "    print('Efficiency:{:.2f}%'.format(100*(sequential_time/parallel_time)/mp.cpu_count()))"
   ]
  }
 ],
 "metadata": {
  "interpreter": {
   "hash": "6ae5eb1e4c67be582ac55725dbffd2326581a48f62cf72127f6d067dfa90770e"
  },
  "kernelspec": {
   "display_name": "Python 3.8.0 64-bit",
   "language": "python",
   "name": "python3"
  },
  "language_info": {
   "codemirror_mode": {
    "name": "ipython",
    "version": 3
   },
   "file_extension": ".py",
   "mimetype": "text/x-python",
   "name": "python",
   "nbconvert_exporter": "python",
   "pygments_lexer": "ipython3",
   "version": "3.8.0"
  },
  "orig_nbformat": 4
 },
 "nbformat": 4,
 "nbformat_minor": 2
}
